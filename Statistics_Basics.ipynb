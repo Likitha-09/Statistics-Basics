{
  "nbformat": 4,
  "nbformat_minor": 0,
  "metadata": {
    "colab": {
      "provenance": []
    },
    "kernelspec": {
      "name": "python3",
      "display_name": "Python 3"
    },
    "language_info": {
      "name": "python"
    }
  },
  "cells": [
    {
      "cell_type": "markdown",
      "source": [
        "1. Explain the different types of data (qualitative and quantitative) and provide examples of each. Discuss?\n",
        "\n",
        " Data can be broadly classified as qualitative (descriptive, non-numerical) or quantitative (numerical, measurable), further categorized into nominal, ordinal, interval, and ratio scales based on their properties and the types of analysis that can be performed.\n",
        "Qualitative Data:\n",
        "Definition:\n",
        "Describes qualities or characteristics that cannot be measured numerically.\n",
        "Examples:\n",
        "Eye color (blue, brown, green), gender (male, female), type of car (sedan, SUV, truck), or a person's favorite ice cream flavor.\n",
        "Scales:\n",
        "Nominal: Categories with no inherent order or ranking; labels only.\n",
        "Examples: Gender (male, female), marital status (single, married, divorced), or types of fruits (apple, orange, banana).\n",
        "Ordinal: Categories with a meaningful order or ranking, but the intervals between them may not be equal.\n",
        "Examples: Educational level (high school, bachelor's, master's), customer satisfaction (very dissatisfied, dissatisfied, neutral, satisfied, very satisfied), or letter grades (A, B, C, D, F).\n",
        "Quantitative Data:\n",
        "Definition: Numerical data that can be measured and counted.\n",
        "Examples: Height (in centimeters), weight (in kilograms), temperature (in Celsius), or age (in years).\n",
        "Scales:\n",
        "Interval: Data can be ordered, and the difference between values is meaningful and equal, but there is no true zero point.\n",
        "Examples: Temperature in Celsius or Fahrenheit, calendar years.\n",
        "Ratio: Data can be ordered, the difference between values is meaningful and equal, and there is a true zero point, allowing for meaningful ratios.\n",
        "Examples: Height, weight, distance, time, or income."
      ],
      "metadata": {
        "id": "_3ze3rBPRG00"
      }
    },
    {
      "cell_type": "markdown",
      "source": [
        "2. What are the measures of central tendency, and when should you use each? Discuss the mean, median,\n",
        "and mode with examples and situations where each is appropriate.\n",
        "\n",
        "Measures of central tendency describe the center or typical value of a dataset. The three main measures are mean, median, and mode. Each has its own use depending on the nature of the data and the presence of outliers.\n",
        "\n",
        "1. Mean (Average)\n",
        "Definition: The sum of all values divided by the number of values.\n",
        "\n",
        "Formula:\n",
        "\n",
        "Mean\n",
        "\n",
        "Mean= Mean= ∑x/n\n",
        "​\n",
        "where\n",
        "𝑋\n",
        "X represents the data points and\n",
        "𝑁\n",
        "N is the total number of values.\n",
        "\n",
        "Example:\n",
        "If five students score 75, 80, 85, 90, and 95 on a test, the mean score is:\n",
        "\n",
        "75+80+85+90+95\n",
        "​\n",
        " =85\n",
        "When to Use:\n",
        "\n",
        "When data is symmetrically distributed (no extreme values).\n",
        "\n",
        "For continuous and numerical data (e.g., average income, test scores).\n",
        "\n",
        "When NOT to Use:\n",
        "\n",
        "When there are outliers (e.g., in income data, one billionaire can significantly skew the mean).\n",
        "\n",
        "When dealing with ordinal or categorical data.\n",
        "\n",
        "2. Median (Middle Value)\n",
        "Definition: The middle value when data is arranged in ascending order.\n",
        "\n",
        "Example:\n",
        "\n",
        "Odd number of values: 3, 5, 7 → Median = 5\n",
        "\n",
        "Even number of values: 3, 5, 7, 9 → Median = (5+7)/2 = 6\n",
        "\n",
        "When to Use:\n",
        "\n",
        "When data has outliers (e.g., income levels in a country with extreme wealth disparities).\n",
        "\n",
        "For skewed distributions (e.g., home prices, as a few expensive homes can raise the mean).\n",
        "\n",
        "For ordinal data (e.g., rating scales like 1-5 stars).\n",
        "\n",
        "When NOT to Use:\n",
        "\n",
        "When a precise arithmetic average is needed for calculations.\n",
        "\n",
        "3. Mode (Most Frequent Value)\n",
        "Definition: The value that appears most often in a dataset.\n",
        "\n",
        "Example:\n",
        "\n",
        "Dataset: 2, 3, 3, 5, 7, 8, 8, 8 → Mode = 8\n",
        "\n",
        "Bimodal case: 1, 2, 2, 3, 3, 4 → Modes = 2 and 3\n",
        "\n",
        "When to Use:\n",
        "\n",
        "For categorical data (e.g., most common eye color, preferred brand).\n",
        "\n",
        "When identifying the most frequent occurrence is important (e.g., most common shoe size).\n",
        "\n",
        "When NOT to Use:\n",
        "\n",
        "When data is uniformly distributed or when another measure provides better insight.\n",
        "\n"
      ],
      "metadata": {
        "id": "i4Mp0FiVRhdk"
      }
    },
    {
      "cell_type": "markdown",
      "source": [
        "3.Explain the concept of dispersion. How do variance and standard deviation measure the spread of data\n",
        "\n",
        "Dispersion refers to the spread or variability of data points in a dataset. It measures how much the values deviate from the central tendency (mean, median, or mode). A high dispersion means the data points are widely spread, while low dispersion indicates they are closely clustered around the center.\n",
        "\n",
        "Key Measures of Dispersion\n",
        "Range – The difference between the maximum and minimum values.\n",
        "\n",
        "Variance – The average squared deviation from the mean.\n",
        "\n",
        "Standard Deviation – The square root of the variance.\n",
        "\n",
        "Variance (𝜎2 and S2)\n",
        "\n",
        "Variance measures the average squared deviation from the mean, indicating how spread out the data points are.\n",
        "\n",
        "For a population and sample formula will be different.\n",
        "\n",
        "Standard Deviation\n",
        "\n",
        "Standard deviation is the square root of the variance. It provides a measure of dispersion in the same units as the original data, making it easier to interpret.\n",
        "Comparing Data Spread: If two datasets have the same mean but different standard deviations, the one with a higher standard deviation has more variability.\n",
        "\n",
        "Risk & Uncertainty: In finance, standard deviation helps measure investment risk (higher standard deviation = more risk).\n",
        "\n",
        "\n",
        "\n"
      ],
      "metadata": {
        "id": "9Vi1IrfkWkZX"
      }
    },
    {
      "cell_type": "markdown",
      "source": [
        "4.What is a box plot, and what can it tell you about the distribution of data?\n",
        "\n",
        "A box plot (or box-and-whisker plot) is a graphical representation of a dataset’s distribution. It visually displays the central tendency, spread, and outliers in the data.\n",
        "\n",
        "Key Components of a Box Plot\n",
        "Minimum: The smallest data point (excluding outliers).\n",
        "\n",
        "First Quartile (Q1): The 25th percentile (median of the lower half).\n",
        "\n",
        "Median (Q2): The 50th percentile (middle value).\n",
        "\n",
        "Third Quartile (Q3): The 75th percentile (median of the upper half).\n",
        "\n",
        "Maximum: The largest data point (excluding outliers).\n",
        "\n",
        "Interquartile Range (IQR): The middle 50% of the data (\n",
        "\n",
        "Whiskers: Lines extending from the box to the minimum and maximum values (up to 1.5 × IQR).\n",
        "Outliers: Data points beyond 1.5 × IQR (plotted separately as dots)."
      ],
      "metadata": {
        "id": "zgvQ2wnqX7Z-"
      }
    },
    {
      "cell_type": "markdown",
      "source": [
        "5.Discuss the role of random sampling in making inferences about populations.\n",
        "\n",
        "Random sampling is crucial for making valid inferences about a population because it helps ensure the sample is representative, minimizing bias and allowing researchers to generalize findings from the sample to the larger group with a higher degree of accuracy."
      ],
      "metadata": {
        "id": "FdNGGY-5YOeQ"
      }
    },
    {
      "cell_type": "markdown",
      "source": [
        "6.Explain the concept of skewness and its types. How does skewness affect the interpretation of data?\n",
        "\n",
        "\n",
        "Skewness, in statistics, measures the asymmetry or lack of symmetry in a data distribution, indicating whether the data is skewed to the left (negative skew) or right (positive skew). It affects data interpretation by influencing the mean, median, and mode, and impacting the choice of statistical methods.\n",
        "Types of Skewness:\n",
        "Positive Skewness (Right Skew):\n",
        "The tail on the right side of the distribution is longer than the tail on the left, meaning there are more low values and a few very high values (outliers). In this case, the mean is greater than the median, which is greater than the mode.\n",
        "Negative Skewness (Left Skew):\n",
        "The tail on the left side of the distribution is longer than the tail on the right, meaning there are more high values and a few very low values (outliers). Here, the mean is less than the median, which is less than the mode.\n",
        "Zero Skewness (Symmetrical):\n",
        "The distribution is symmetrical, with the left and right sides being mirror images of each other. In this case, the mean, median, and mode are all equal.\n",
        "\n",
        "How Skewness Affects Data Interpretation\n",
        "\n",
        "Data Transformation\n",
        "Model Performance\n",
        "Outlier Detection\n",
        "tatistical Tests\n",
        "Measures of Central Tendency"
      ],
      "metadata": {
        "id": "xAPDN_QBYaqZ"
      }
    },
    {
      "cell_type": "markdown",
      "source": [
        "7.What is the interquartile range (IQR), and how is it used to detect outliers?\n",
        "\n",
        "The Interquartile Range (IQR) is the difference between the third quartile (Q3) and the first quartile (Q1) of a dataset, representing the spread of the middle 50% of the data. It's used to detect outliers by establishing upper and lower \"fences\" (Q3 + 1.5IQR and Q1 - 1.5IQR, respectively) and identifying data points that fall outside these fences.\n",
        "\n"
      ],
      "metadata": {
        "id": "VKuSoDl1ZBkZ"
      }
    },
    {
      "cell_type": "markdown",
      "source": [
        "8.Discuss the conditions under which the binomial distribution is used\n",
        "\n",
        "The binomial distribution is used when you have a fixed number of independent trials, each with only two possible outcomes (success or failure), and a constant probability of success for each trial."
      ],
      "metadata": {
        "id": "xYRkqYAfZTtQ"
      }
    },
    {
      "cell_type": "markdown",
      "source": [
        "9.Explain the properties of the normal distribution and the empirical rule (68-95-99.7 rule)\n",
        "\n",
        "In statistics, the 68–95–99.7 rule, also known as the empirical rule, and sometimes abbreviated 3sr or 3σ, is a shorthand used to remember the percentage of values that lie within an interval estimate in a normal distribution: approximately 68%, 95%, and 99.7% of the values lie within one, two, and three standard."
      ],
      "metadata": {
        "id": "XNWosMfwZc9n"
      }
    },
    {
      "cell_type": "markdown",
      "source": [
        "10.Provide a real-life example of a Poisson process and calculate the probability for a specific event.\n",
        "\n",
        "A real-life example of a Poisson process is the number of emails you receive per hour, assuming emails arrive randomly and independently at a constant average rate. If you receive an average of 5 emails per hour, the probability of receiving exactly 3 emails in the next hour is approximately 0.1404, calculated using the Poisson distribution formula.\n",
        "A Poisson process models the occurrence of random events over a fixed interval of time (or space) when events happen independently and at a constant average rate.\n",
        "Key characteristics:\n",
        "Randomness: The events occur randomly, not at predictable intervals.\n",
        "Independence: The occurrence of one event doesn't affect the probability of another event occurring.\n",
        "Constant Rate: The average rate of events occurring remains constant over time.\n",
        "2. Real-Life Example: Email Arrivals\n",
        "Let's say you receive emails at a rate of 5 emails per hour, on average.\n",
        "We can model this email arrival process using a Poisson distribution.\n",
        "We want to find the probability of receiving exactly 3 emails in the next hour.\n",
        "3. Applying the Poisson Distribution Formula\n",
        "The Poisson probability mass function (PMF) is: P(X = k) = (λ^k * e^(-λ)) / k!\n",
        "Where:\n",
        "P(X = k) is the probability of observing exactly 'k' events.\n",
        "λ (lambda) is the average rate of events per interval (in this case, 5 emails per hour).\n",
        "k is the number of events we're interested in (3 emails).\n",
        "e is Euler's number (approximately 2.71828).\n",
        "k! is the factorial of k (k! = k * (k-1) * (k-2) * ... * 1).\n",
        "Plugging in the values:\n",
        "P(X = 3) = (5^3 * e^(-5)) / 3!\n",
        "P(X = 3) = (125 * 0.006737947) / 6\n",
        "P(X = 3) ≈ 0.14037"
      ],
      "metadata": {
        "id": "48ca2tiJZo3w"
      }
    },
    {
      "cell_type": "markdown",
      "source": [
        "11.Explain what a random variable is and differentiate between discrete and continuous random variables.\n",
        "\n",
        "A discrete random variable is a type of random variable that has a countable number of distinct values, such as heads or tails, playing cards, or the sides of a die. A continuous random variable can reflect an infinite number of potential values, such as the average rainfall in a region.\n"
      ],
      "metadata": {
        "id": "RVRuuvWxaDdn"
      }
    },
    {
      "cell_type": "markdown",
      "source": [
        "12.Provide an example dataset, calculate both covariance and correlation, and interpret the results\n",
        "\n",
        "magine you're tracking the daily rainfall (in millimeters) and the number of umbrellas sold at a local store. Here's some sample data:\n",
        "Rainfall (mm)\n",
        "\n",
        "rainfall(mm)    Umbrellas Sold    \n",
        "5                    10                   18\n",
        "12                    5\n",
        "2                  22                \n",
        "15                     13                   7\n",
        "8                   15\n",
        "3\n",
        "10\n",
        "\n",
        "Calculations:\n",
        "1. Mean (Average) Calculation:\n",
        "5\n",
        "12\n",
        "2\n",
        "15\n",
        "8\n",
        "3\n",
        "10\n",
        "Calculations:\n",
        "1. Mean (Average) Calculation:\n",
        "Rainfall Mean (μ<sub>x</sub>): (5+12+2+15+8+3+10)/7 = 8.14 mm\n",
        "Umbrellas Sold Mean (μ<sub>y</sub>): (10+18+5+22+13+7+15)/7 = 13.57\n",
        "2. Covariance Calculation:\n",
        "Cov(x, y) = Σ [(x<sub>i</sub> - μ<sub>x</sub>) * (y<sub>i</sub> - μ<sub>y</sub>)] / (n-1)\n",
        "Where:\n",
        "x<sub>i</sub> is each rainfall value\n",
        "y<sub>i</sub> is each umbrellas sold value\n",
        "n is the number of data points (7)\n",
        "After calculating, the covariance is approximately 17.13.\n",
        "3. Standard Deviation Calculation:\n",
        "Standard Deviation of Rainfall (σ<sub>x</sub>): Approximately 5.86 mm\n",
        "Standard Deviation of Umbrellas Sold (σ<sub>y</sub>): Approximately 5.93\n",
        "4. Correlation Calculation:\n",
        "Correlation (r) = Cov(x, y) / (σ<sub>x</sub> * σ<sub>y</sub>)\n",
        "r = 17.13 / (5.86 * 5.93)\n",
        "r ≈ 0.48\n",
        "Interpretation:\n",
        "Covariance:\n",
        "The positive covariance (17.13) indicates that as rainfall increases, the number of umbrellas sold also tends to increase, and vice-versa.\n",
        "Correlation:\n",
        "The positive correlation coefficient (0.48) indicates a positive, but relatively weak, linear relationship between rainfall and umbrella sales. This suggests that there is a tendency for higher rainfall to be associated with higher umbrella sales, but the relationship isn't perfectly strong."
      ],
      "metadata": {
        "id": "G9nGceHZaVl6"
      }
    }
  ]
}